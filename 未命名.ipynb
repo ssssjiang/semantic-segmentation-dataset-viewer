{
 "cells": [
  {
   "cell_type": "code",
   "execution_count": 1,
   "id": "9d3e8b69",
   "metadata": {},
   "outputs": [],
   "source": [
    "import fiftyone.zoo as foz"
   ]
  },
  {
   "cell_type": "code",
   "execution_count": 2,
   "id": "5d92536e",
   "metadata": {},
   "outputs": [],
   "source": [
    "name = \"my-dataset\"\n",
    "data_path = \"/home/songshu/dataset/Foggy_Zurich/images/\"\n",
    "labels_path = \"/home/songshu/dataset/Foggy_Zurich/gt_labelTrainIds/\"\n",
    "export_dir=\"/home/songshu/dataset/Foggy_Zurich\"\n"
   ]
  },
  {
   "cell_type": "code",
   "execution_count": null,
   "id": "22bbcc9c",
   "metadata": {},
   "outputs": [],
   "source": [
    "\n",
    "classes = [\"road\", \"sidewalk\", \"building\", \"wall\", \"fence\", \"pole\", \"traffic_light\", \"traffic_sign\",\n",
    "           \"vegetation\", \"terrain\", \"sky\", \"person\", \"rider\", \"car\", \"truck\", \"bus\", \"train\", \"motorcycle\", \"bicycle\"]\n",
    "class_map = dict(zip(range(19), classes))\n",
    "\n",
    "dataset = fo.Dataset.from_dir(\n",
    "    dataset_type=fo.types.ImageSegmentationDirectory,\n",
    "    data_path=data_path,\n",
    "    labels_path=labels_path,\n",
    "    name=name,\n",
    "    tags=[\"ProjectA\"]\n",
    ")\n",
    "\n",
    "dataset.default_mask_targets = class_map\n",
    "\n",
    "dataset.mask_target = {\n",
    "    \"ground_truth\": class_map\n",
    "}\n"
   ]
  }
 ],
 "metadata": {
  "kernelspec": {
   "display_name": "Python [conda env:ss-dataset-viewer] *",
   "language": "python",
   "name": "conda-env-ss-dataset-viewer-py"
  },
  "language_info": {
   "codemirror_mode": {
    "name": "ipython",
    "version": 3
   },
   "file_extension": ".py",
   "mimetype": "text/x-python",
   "name": "python",
   "nbconvert_exporter": "python",
   "pygments_lexer": "ipython3",
   "version": "3.9.12"
  }
 },
 "nbformat": 4,
 "nbformat_minor": 5
}
